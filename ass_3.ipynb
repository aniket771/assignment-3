{
 "cells": [
  {
   "cell_type": "code",
   "execution_count": null,
   "id": "e02fee42-0c29-43ac-88f7-85d47af0ce9f",
   "metadata": {},
   "outputs": [],
   "source": [
    "#assignment 3"
   ]
  },
  {
   "cell_type": "code",
   "execution_count": 7,
   "id": "4fedeefe-0cd5-466b-a257-4658ff49de4a",
   "metadata": {},
   "outputs": [
    {
     "name": "stdout",
     "output_type": "stream",
     "text": [
      "50 is greater than  10\n",
      "15 is less than  100\n",
      "for loop  0\n",
      "for loop  1\n",
      "for loop  2\n",
      "for loop  3\n",
      "for loop  4\n",
      "while loop 1\n",
      "while loop 2\n",
      "while loop 3\n",
      "while loop 4\n",
      "while loop 5\n",
      "while loop 6\n",
      "while loop 7\n",
      "hello ,sunil, how are you ?\n",
      "50 is greater than  10\n",
      "15 is less than  100\n",
      "for loop  0\n",
      "for loop  1\n",
      "for loop  2\n",
      "for loop  3\n",
      "for loop  4\n",
      "while loop 1\n",
      "while loop 2\n",
      "while loop 3\n",
      "while loop 4\n",
      "while loop 5\n",
      "while loop 6\n",
      "while loop 7\n",
      "hello ,aniket, how are you ?\n"
     ]
    }
   ],
   "source": [
    "# 1. Explain the significance of Python keywords and provide examples of five keywords\n",
    "\n",
    "\"\"\"\n",
    "Python keywords are reserved words that have special meanings and purposes within the language.\n",
    "These keywords cannot be used as identifiers (such as variable names or function names) \n",
    "because they are already predefined for specific operations or functionalities.\n",
    "\"\"\"\n",
    "# Five examples of keywords are :-\n",
    "\n",
    "# (1). 'if'\n",
    "a = 50\n",
    "if a > 10:\n",
    "    print(a ,\"is greater than \" ,30)\n",
    "\n",
    "# (2). 'else'\n",
    "a= 15\n",
    "if a > 100:\n",
    "    print(a ,\"is greater than \" ,100)\n",
    "else:\n",
    "    print(a ,\"is less than \" ,100)\n",
    "\n",
    "# (3). 'for'\n",
    "\n",
    "for i in range(5):\n",
    "    print( \"for loop \",i)\n",
    "\n",
    "# (4). 'while'\n",
    "\n",
    "var = 1\n",
    "while var < 8:\n",
    "  print(\"while loop\",var)\n",
    "  var+= 1\n",
    "\n",
    "  # (5). 'function'\n",
    "\n",
    "def greet(name):\n",
    "    print(f\"hello ,{name}, how are you ?\")\n",
    "    \n",
    "greet(\"sunil\")\n",
    "# 1. Explain the significance of Python keywords and provide examples of five keywords\n",
    "\n",
    "\"\"\"\n",
    "Python keywords are reserved words that have special meanings and purposes within the language.\n",
    "These keywords cannot be used as identifiers (such as variable names or function names) \n",
    "because they are already predefined for specific operations or functionalities.\n",
    "\"\"\"\n",
    "# Five examples of keywords are :-\n",
    "\n",
    "# (1). 'if'\n",
    "x = 50\n",
    "if x > 10:\n",
    "    print(x ,\"is greater than \" ,10)\n",
    "\n",
    "# (2). 'else'\n",
    "x= 15\n",
    "if x > 100:\n",
    "    print(x ,\"is greater than \" ,100)\n",
    "else:\n",
    "    print(x ,\"is less than \" ,100)\n",
    "\n",
    "# (3). 'for'\n",
    "\n",
    "for i in range(5):\n",
    "    print( \"for loop \",i)\n",
    "\n",
    "# (4). 'while'\n",
    "\n",
    "var = 1\n",
    "while var < 8:\n",
    "  print(\"while loop\",var)\n",
    "  var+= 1\n",
    "\n",
    "  # (5). 'function'\n",
    "\n",
    "def greet(name):\n",
    "    print(f\"hello ,{name}, how are you ?\")\n",
    "    \n",
    "greet(\"aniket\")"
   ]
  },
  {
   "cell_type": "code",
   "execution_count": 8,
   "id": "89f5f799-77ff-4559-b36d-bb0025b58531",
   "metadata": {},
   "outputs": [],
   "source": [
    "# 2.  Describe the rules for defining identifiers in Python and provide an example\n",
    "\n",
    "# Here are some rules for defining identifiers in Python:-\n",
    "\n",
    "\"\"\"\n",
    "1.Identifiers must start with a letter or an underscore.\n",
    "2.Identifiers cannot start with a digit.\n",
    "3.Identifiers can contain letters, digits, and underscores.\n",
    "4.Identifiers are case-sensitive.\n",
    "5.Identifiers cannot be a keyword or a built-in function name.\n",
    "6.Identifiers should be descriptive and meaningful.\n",
    "\"\"\"\n",
    "# Here's an example of a valid identifier in Python:\n",
    "\n",
    "# Example:\n",
    "\n",
    "my_variable = 10 #valid\n",
    "another_variable = \"Hello\" #valid\n",
    "\n",
    "#  Here's an example of a invalid identifier in Python:\n",
    "\n",
    "# 2my-variable = 10  # Invalid identifier\n",
    "# 5invalid_identifier = 45 #ivalid identifier\n",
    "# for = 5  #  ivalid  ,\"for\" is a reserved keyword"
   ]
  },
  {
   "cell_type": "code",
   "execution_count": 9,
   "id": "465fd776-18a8-4dd5-91e5-2e7c853a64c8",
   "metadata": {},
   "outputs": [
    {
     "name": "stdout",
     "output_type": "stream",
     "text": [
      "Hello, i am a  single line comment\n",
      "Hello, i am a  multi line comment\n"
     ]
    }
   ],
   "source": [
    "# 3. What are comments in Python, and why are they useful ? Provide an example \n",
    "\n",
    "   # What are comments in Python are :-\n",
    "\"\"\"\n",
    "In Python, a comment is a piece of text within the code that is not executed by the interpreter. \n",
    "It is used to add explanations, notes, or annotations to the code for the benefit of human readers.\n",
    "\"\"\"\n",
    "    \n",
    "    \n",
    " #comements use for :-    \n",
    "    \n",
    "\"\"\" \n",
    "a) Comments can be used to explain Python code.\n",
    "\n",
    "b) Comments can be used to make the code more readable.\n",
    "\n",
    "c) Comments can be used to prevent execution when testing code.\n",
    "\"\"\"\n",
    "\n",
    "# Example of comments \n",
    "\n",
    "# 1. sigle line comments :-\n",
    "\n",
    "# This is a single-line comment\n",
    "print(\"Hello, i am a  single line comment\")  # This line prints \"Hello, i am a  single line comment\n",
    "\n",
    "# 2. multi line comment :-\n",
    "\n",
    "\"\"\"\n",
    "This is a multi-line comment.\n",
    "It spans multiple lines.\n",
    "\"\"\"\n",
    "print(\"Hello, i am a  multi line comment\")  # This line prints \"This is not a comment\"\n",
    "\n"
   ]
  },
  {
   "cell_type": "code",
   "execution_count": 5,
   "id": "c4810763-d58c-4084-999d-b0f776b1edab",
   "metadata": {},
   "outputs": [
    {
     "data": {
      "text/plain": [
       "\"   # Proper indentation is crucial in Python because it is not just a matter of style; it is part of the language's syntax. In Python, indentation is used to define the structure and scope of code blocks, such as loops, conditional statements, and function definitions. Here's why proper indentation is important:\\n\\n#  1>Readability: Indentation makes code more readable by visually separating different levels of code blocks. \\n#  2>Clarity and Understanding: Consistent indentation makes it easier to identify the beginning and end of blocks of code. This clarity reduces the likelihood of errors caused by misunderstanding the code's structure.\\n\\n#  3>Enforces Correctness: Python enforces indentation rules to determine the structure of the code. Incorrect indentation can lead to syntax errors or, worse, change the logic of the code, making it behave differently than intended.\\n\\n#  4>Maintainability: Well-indented code is easier to maintain and modify. When someone needs to update or debug code, clear indentation helps them navigate and make changes without introducing new errors.\\n\\n#  5>Debugging: Proper indentation can also aid in debugging. If code is not correctly indented, it might be challenging to spot errors in the logic, leading to longer debugging times.\\n\\n\""
      ]
     },
     "execution_count": 5,
     "metadata": {},
     "output_type": "execute_result"
    }
   ],
   "source": [
    "# question 4 = why is proper intendation important in python\n",
    " \n",
    "\"\"\"   # Proper indentation is crucial in Python because it is not just a matter of style; it is part of the language's syntax. In Python, indentation is used to define the structure and scope of code blocks, such as loops, conditional statements, and function definitions. Here's why proper indentation is important:\n",
    "\n",
    "#  1>Readability: Indentation makes code more readable by visually separating different levels of code blocks. \n",
    "#  2>Clarity and Understanding: Consistent indentation makes it easier to identify the beginning and end of blocks of code. This clarity reduces the likelihood of errors caused by misunderstanding the code's structure.\n",
    "\n",
    "#  3>Enforces Correctness: Python enforces indentation rules to determine the structure of the code. Incorrect indentation can lead to syntax errors or, worse, change the logic of the code, making it behave differently than intended.\n",
    "\n",
    "#  4>Maintainability: Well-indented code is easier to maintain and modify. When someone needs to update or debug code, clear indentation helps them navigate and make changes without introducing new errors.\n",
    "\n",
    "#  5>Debugging: Proper indentation can also aid in debugging. If code is not correctly indented, it might be challenging to spot errors in the logic, leading to longer debugging times.\n",
    "\n",
    "\"\"\""
   ]
  },
  {
   "cell_type": "code",
   "execution_count": 2,
   "id": "5fb2f345-6fc0-485e-9bc6-59e9b96249af",
   "metadata": {},
   "outputs": [
    {
     "data": {
      "text/plain": [
       "\" When indentation is incorrect in Python, it can lead to various issues, including syntax errors and logic errors. Here's what can happen:\\n\\nSyntax Errors: Python relies on proper indentation to understand the structure of the code. Incorrect indentation can result in syntax errors\\n\\nUnexpected Behavior: Incorrect indentation can change the logical structure of the code, leading to unexpected behavior.\\n\\nScope Errors: In Python, indentation determines the scope of code blocks such as loops, conditional statements, and function definitions.\\nUnreadable Code: Poorly indented code can be challenging to read and understand. It can confuse both the original programmer and others who need to review or modify the code later.\\n\\nDebugging Challenges: Incorrect indentation can make debugging more challenging.\""
      ]
     },
     "execution_count": 2,
     "metadata": {},
     "output_type": "execute_result"
    }
   ],
   "source": [
    "#Question 5 =what happens when indentation is incorrect in python\n",
    "\"\"\" When indentation is incorrect in Python, it can lead to various issues, including syntax errors and logic errors. Here's what can happen:\n",
    "\n",
    "Syntax Errors: Python relies on proper indentation to understand the structure of the code. Incorrect indentation can result in syntax errors\n",
    "\n",
    "Unexpected Behavior: Incorrect indentation can change the logical structure of the code, leading to unexpected behavior.\n",
    "\n",
    "Scope Errors: In Python, indentation determines the scope of code blocks such as loops, conditional statements, and function definitions.\n",
    "Unreadable Code: Poorly indented code can be challenging to read and understand. It can confuse both the original programmer and others who need to review or modify the code later.\n",
    "\n",
    "Debugging Challenges: Incorrect indentation can make debugging more challenging.\"\"\"\n"
   ]
  },
  {
   "cell_type": "code",
   "execution_count": 3,
   "id": "98d98008-1080-499f-bd9f-51ec2ae802bb",
   "metadata": {},
   "outputs": [],
   "source": [
    "# question 6= diffrenciate beetween expression and statement in python with examples\n",
    "\"\"\"An expression is a piece of code that produces a value. It can be a combination of variables, literals, operators, and function calls that evaluate to a single value.\n",
    "Examples of expressions include arithmetic expressions, function calls, and list comprehension\"\"\"\n",
    "# Arithmetic expression\n",
    "result = 3 + 4 * (5 - 2)\n",
    "\n",
    "# Function call\n",
    "length = len(\"hello\")\n",
    "\n",
    "# List comprehension\n",
    "squares = [x**2 for x in range(1, 5)]\n"
   ]
  },
  {
   "cell_type": "code",
   "execution_count": 4,
   "id": "d4148c46-2595-43c4-b360-1b44ff5fc102",
   "metadata": {},
   "outputs": [
    {
     "ename": "SyntaxError",
     "evalue": "unterminated string literal (detected at line 3) (372402711.py, line 3)",
     "output_type": "error",
     "traceback": [
      "\u001b[0;36m  Cell \u001b[0;32mIn[4], line 3\u001b[0;36m\u001b[0m\n\u001b[0;31m    Examples of statements include assignment statements, conditional statements, loop statements, and import statements\"\"\"\"\u001b[0m\n\u001b[0m                                                                                                                           ^\u001b[0m\n\u001b[0;31mSyntaxError\u001b[0m\u001b[0;31m:\u001b[0m unterminated string literal (detected at line 3)\n"
     ]
    }
   ],
   "source": [
    "#whereas in statement\n",
    "\"\"\"A statement is a complete instruction that performs some action. Unlike expressions, statements do not necessarily produce a value.\n",
    "Examples of statements include assignment statements, conditional statements, loop statements, and import statements\"\"\"\"\n",
    "# Assignment statement\n",
    "x = 5\n",
    "\n",
    "# Conditional statement\n",
    "if x > 0:\n",
    "    print(\"Positive\")\n",
    "\n",
    "# Loop statement\n",
    "for i in range(5):\n",
    "    print(i)\n"
   ]
  },
  {
   "cell_type": "code",
   "execution_count": null,
   "id": "18c939c8-4f86-4351-bb88-fc05a3ccfdb3",
   "metadata": {},
   "outputs": [],
   "source": []
  }
 ],
 "metadata": {
  "kernelspec": {
   "display_name": "Python 3 (ipykernel)",
   "language": "python",
   "name": "python3"
  },
  "language_info": {
   "codemirror_mode": {
    "name": "ipython",
    "version": 3
   },
   "file_extension": ".py",
   "mimetype": "text/x-python",
   "name": "python",
   "nbconvert_exporter": "python",
   "pygments_lexer": "ipython3",
   "version": "3.10.8"
  }
 },
 "nbformat": 4,
 "nbformat_minor": 5
}
